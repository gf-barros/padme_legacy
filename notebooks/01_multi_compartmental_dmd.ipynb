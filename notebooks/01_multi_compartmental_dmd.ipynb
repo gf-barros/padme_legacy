{
 "cells": [
  {
   "cell_type": "code",
   "execution_count": 1,
   "metadata": {},
   "outputs": [
    {
     "name": "stderr",
     "output_type": "stream",
     "text": [
      "/home/kunumi/anaconda3/envs/padme/lib/python3.8/site-packages/matplotlib_inline/config.py:66: DeprecationWarning: InlineBackend._figure_formats_changed is deprecated in traitlets 4.1: use @observe and @unobserve instead.\n",
      "  def _figure_formats_changed(self, name, old, new):\n"
     ]
    }
   ],
   "source": [
    "from pathlib import Path \n",
    "from kedro.framework.startup import bootstrap_project\n",
    "import numpy as np \n",
    "\n",
    "bootstrap_project(Path.cwd().parent)\n",
    "\n",
    "from padme.utils.dmd import (\n",
    "    DMD,\n",
    "    rSVD\n",
    ")\n",
    "\n"
   ]
  },
  {
   "cell_type": "code",
   "execution_count": 2,
   "metadata": {},
   "outputs": [],
   "source": [
    "dataset = Path(\"../data/01_multicompartments/\")"
   ]
  },
  {
   "cell_type": "code",
   "execution_count": 3,
   "metadata": {},
   "outputs": [],
   "source": [
    "snapshots_matrix = np.load(dataset / \"compartments.npy\")"
   ]
  },
  {
   "cell_type": "code",
   "execution_count": 4,
   "metadata": {},
   "outputs": [],
   "source": [
    "compartment_names = [\"s\", \"e\", \"i\", \"r\", \"d\"]\n",
    "n = int(snapshots_matrix.shape[0]/len(compartment_names))"
   ]
  },
  {
   "cell_type": "code",
   "execution_count": 5,
   "metadata": {},
   "outputs": [],
   "source": [
    "dmd_list = [\n",
    "    True, #Randomized SVD Flag\n",
    "    20,   #r\n",
    "    1,    #q\n",
    "    5,    #p\n",
    "    21     #Initial Shift\n",
    "    ]\n"
   ]
  },
  {
   "cell_type": "code",
   "execution_count": 6,
   "metadata": {},
   "outputs": [
    {
     "name": "stdout",
     "output_type": "stream",
     "text": [
      "120.25\n",
      "compartment: s -  rel error: 0.9731720817794186\n",
      "120.25\n",
      "compartment: e -  rel error: 0.994956175879656\n",
      "120.25\n",
      "compartment: i -  rel error: 1.0042538795530982\n",
      "120.25\n",
      "compartment: r -  rel error: 0.9979012206857562\n",
      "120.25\n",
      "compartment: d -  rel error: 1.0015504517336025\n"
     ]
    }
   ],
   "source": [
    "for i, name in enumerate(compartment_names):\n",
    "    compartment = snapshots_matrix[i*n:(i+1)*n, :]\n",
    "    dmd_vals = DMD(compartment, dmd_list, dt_simulation=0.25)\n",
    "    diff = dmd_vals[\"solution\"]\n",
    "    rel_error = np.linalg.norm(diff)/np.linalg.norm(compartment)\n",
    "    print(f\"compartment: {name} -  rel error: {rel_error}\")\n"
   ]
  },
  {
   "cell_type": "code",
   "execution_count": null,
   "metadata": {},
   "outputs": [],
   "source": [
    "dmd_list = [\n",
    "    True, #Randomized SVD Flag\n",
    "    20,   #r\n",
    "    1,    #q\n",
    "    5,    #p\n",
    "    0     #Initial Shift\n",
    "    ]\n"
   ]
  },
  {
   "cell_type": "code",
   "execution_count": null,
   "metadata": {},
   "outputs": [],
   "source": [
    "compartment = snapshots_matrix\n",
    "dmd_vals = DMD(compartment, dmd_list, dt_simulation=0.25)\n",
    "diff = dmd_vals[\"solution\"]\n",
    "rel_error = np.linalg.norm(diff)/np.linalg.norm(compartment)\n",
    "print(f\"compartment: {' '.join(compartment_names)} -  rel error: {rel_error}\")"
   ]
  },
  {
   "cell_type": "code",
   "execution_count": null,
   "metadata": {},
   "outputs": [],
   "source": []
  }
 ],
 "metadata": {
  "interpreter": {
   "hash": "5d3e386e7f646ecbf13f0a87e1ad3937fab361b8b3b74724be1f4940a7a3b950"
  },
  "kernelspec": {
   "display_name": "Python 3.7.11 64-bit ('kedro-environment': conda)",
   "language": "python",
   "name": "python3"
  },
  "language_info": {
   "codemirror_mode": {
    "name": "ipython",
    "version": 3
   },
   "file_extension": ".py",
   "mimetype": "text/x-python",
   "name": "python",
   "nbconvert_exporter": "python",
   "pygments_lexer": "ipython3",
   "version": "3.8.12"
  },
  "orig_nbformat": 4
 },
 "nbformat": 4,
 "nbformat_minor": 2
}
